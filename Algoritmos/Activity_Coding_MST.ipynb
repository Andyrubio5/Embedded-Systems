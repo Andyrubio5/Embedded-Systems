{
 "cells": [
  {
   "cell_type": "markdown",
   "id": "94e63bec",
   "metadata": {},
   "source": [
    "# Activity Code\n",
    "Andrea Rubio Quezada | A01645257\n",
    "\n"
   ]
  },
  {
   "cell_type": "markdown",
   "id": "3a7cca9d",
   "metadata": {},
   "source": [
    "## Codigo para cada MST "
   ]
  },
  {
   "cell_type": "markdown",
   "id": "0477a333",
   "metadata": {},
   "source": [
    "### Kruscal's"
   ]
  },
  {
   "cell_type": "code",
   "execution_count": null,
   "id": "4eea52c3",
   "metadata": {},
   "outputs": [],
   "source": [
    "def kruskal_simple(vertices, edges):\n",
    "    # cada vértice empieza en su propio \"grupo\"\n",
    "    componente = {v: v for v in vertices}  \n",
    "    mst = []\n",
    "    # aristas ordenadas por peso (de menor a mayor)\n",
    "    for (u, v, w) in sorted(edges, key=lambda e: e[2]):\n",
    "        # si u y v están en grupos distintos, NO hay ciclo\n",
    "        if componente[u] != componente[v]:\n",
    "            mst.append((u, v, w))\n",
    "            # unimos los grupos: todo lo que era del grupo v pasa al grupo u\n",
    "            viejo = componente[v]\n",
    "            nuevo = componente[u]\n",
    "            for x in componente:\n",
    "                if componente[x] == viejo:\n",
    "                    componente[x] = nuevo\n",
    "        # cuando ya tengo V-1 aristas, paro\n",
    "        if len(mst) == len(vertices) - 1:\n",
    "            break\n",
    "    return mst"
   ]
  },
  {
   "cell_type": "markdown",
   "id": "418bed3a",
   "metadata": {},
   "source": [
    "### Prim's"
   ]
  },
  {
   "cell_type": "code",
   "execution_count": 38,
   "id": "4b6aa925",
   "metadata": {},
   "outputs": [],
   "source": [
    "def prim_simple(vertices, edges, inicio=1):\n",
    "    arbol_vertices = {inicio}   # lo que ya está dentro del árbol\n",
    "    arbol_aristas = []          # aristas elegidas\n",
    "\n",
    "    # Repetimos hasta tener V-1 aristas en el MST\n",
    "    while len(arbol_aristas) < len(vertices) - 1:\n",
    "        mejor = None  # (peso, u, v) que cruza desde dentro -> fuera\n",
    "        for (u, v, w) in edges:\n",
    "            # revisa aristas que salen del árbol hacia un vértice nuevo\n",
    "            if (u in arbol_vertices and v not in arbol_vertices) or \\\n",
    "               (v in arbol_vertices and u not in arbol_vertices):\n",
    "                if (mejor is None) or (w < mejor[0]):\n",
    "                    # guarda orientada desde \"dentro\" hacia \"fuera\" solo para imprimir bonito\n",
    "                    if u in arbol_vertices:\n",
    "                        mejor = (w, u, v)\n",
    "                    else:\n",
    "                        mejor = (w, v, u)\n",
    "        # agrega la mejor arista encontrada\n",
    "        w, u, v = mejor\n",
    "        arbol_aristas.append((u, v, w))\n",
    "        arbol_vertices.add(v)\n",
    "\n",
    "    return arbol_aristas"
   ]
  },
  {
   "cell_type": "markdown",
   "id": "97a2c40d",
   "metadata": {},
   "source": [
    "\n",
    "### Primer ejercicio (Valores principales)"
   ]
  },
  {
   "cell_type": "code",
   "execution_count": 39,
   "id": "34599006",
   "metadata": {},
   "outputs": [],
   "source": [
    "V = {1,2,3,4,5}\n",
    "edges = [\n",
    "    (1,2,6), (1,3,2), (1,4,1), (2,3,5), (4,3,4), (3,5,3)\n",
    "]"
   ]
  },
  {
   "cell_type": "markdown",
   "id": "06936e0d",
   "metadata": {},
   "source": [
    "### Resultados Primer Ejercicio"
   ]
  },
  {
   "cell_type": "code",
   "execution_count": 40,
   "id": "0ed4a94a",
   "metadata": {},
   "outputs": [
    {
     "name": "stdout",
     "output_type": "stream",
     "text": [
      "MST con Prim  : [(1, 4, 1), (1, 3, 2), (3, 5, 3), (3, 2, 5)] Costo = 11\n",
      "MST con Kruskal: [(1, 4, 1), (1, 3, 2), (3, 5, 3), (2, 3, 5)] Costo = 11\n"
     ]
    }
   ],
   "source": [
    "def costo_total(aristas):\n",
    "    return sum(w for _, _, w in aristas)\n",
    "\n",
    "mst_prim    = prim_simple(V, edges, inicio=1)\n",
    "mst_kruskal = kruskal_simple(V, edges)\n",
    "\n",
    "print(\"MST con Prim  :\", mst_prim,    \"Costo =\", costo_total(mst_prim))\n",
    "print(\"MST con Kruskal:\", mst_kruskal, \"Costo =\", costo_total(mst_kruskal))"
   ]
  },
  {
   "cell_type": "markdown",
   "id": "199ed993",
   "metadata": {},
   "source": [
    "### Segundo Ejercicio (Valores Principales)"
   ]
  },
  {
   "cell_type": "code",
   "execution_count": 41,
   "id": "12b84bb7",
   "metadata": {},
   "outputs": [],
   "source": [
    "V = {1,2,3,4,5,6,7}\n",
    "edges = [\n",
    "    (1,4,1), (1,2,2),(1,3,4),(2,4,3),(2,5,10),\n",
    "    (3,4,2),(3,6,5),(6,4,8),(6,7,1),(7,4,4),(7,5,6),(5,4,7)\n",
    "]"
   ]
  },
  {
   "cell_type": "markdown",
   "id": "bc28ff23",
   "metadata": {},
   "source": [
    "### Resultados Segundo Ejercicio"
   ]
  },
  {
   "cell_type": "code",
   "execution_count": 42,
   "id": "f6f1e72e",
   "metadata": {},
   "outputs": [
    {
     "name": "stdout",
     "output_type": "stream",
     "text": [
      "MST con Prim  : [(1, 4, 1), (1, 2, 2), (4, 3, 2), (4, 7, 4), (7, 6, 1), (7, 5, 6)] Costo = 16\n",
      "MST con Kruskal: [(1, 4, 1), (6, 7, 1), (1, 2, 2), (3, 4, 2), (7, 4, 4), (7, 5, 6)] Costo = 16\n"
     ]
    }
   ],
   "source": [
    "def costo_total(aristas):\n",
    "    return sum(w for _, _, w in aristas)\n",
    "\n",
    "mst_prim    = prim_simple(V, edges, inicio=1)\n",
    "mst_kruskal = kruskal_simple(V, edges)\n",
    "\n",
    "print(\"MST con Prim  :\", mst_prim,    \"Costo =\", costo_total(mst_prim))\n",
    "print(\"MST con Kruskal:\", mst_kruskal, \"Costo =\", costo_total(mst_kruskal))"
   ]
  },
  {
   "cell_type": "markdown",
   "id": "d836fafe",
   "metadata": {},
   "source": [
    "### Tercer Ejercicio (Valores Principales)"
   ]
  },
  {
   "cell_type": "code",
   "execution_count": 43,
   "id": "a673dc26",
   "metadata": {},
   "outputs": [],
   "source": [
    "V = {\"A\",\"B\",\"C\",\"D\",\"E\",\"F\",\"G\",\"H\",\"I\"}\n",
    "\n",
    "edges = [\n",
    "    (\"A\",\"B\",4), (\"A\",\"C\",7),(\"B\",\"C\",11), (\"B\",\"F\",20),(\"B\",\"D\",9),(\"C\",\"F\",1), \n",
    "    (\"D\",\"E\",2),(\"D\",\"G\",6),(\"E\",\"F\",1),(\"E\",\"G\",10), (\"E\",\"H\",5),(\"E\",\"I\",15),(\"F\",\"H\",3),(\"G\",\"I\",5), (\"H\",\"I\",12)\n",
    "]"
   ]
  },
  {
   "cell_type": "markdown",
   "id": "761a9683",
   "metadata": {},
   "source": [
    "### Resultados Tercer Ejercicio"
   ]
  },
  {
   "cell_type": "code",
   "execution_count": 44,
   "id": "ff929ae7",
   "metadata": {},
   "outputs": [
    {
     "name": "stdout",
     "output_type": "stream",
     "text": [
      "MST con Prim  : [('A', 'B', 4), ('A', 'C', 7), ('C', 'F', 1), ('F', 'E', 1), ('E', 'D', 2), ('F', 'H', 3), ('D', 'G', 6), ('G', 'I', 5)] Costo = 29\n",
      "MST con Kruskal: [('C', 'F', 1), ('E', 'F', 1), ('D', 'E', 2), ('F', 'H', 3), ('A', 'B', 4), ('G', 'I', 5), ('D', 'G', 6), ('A', 'C', 7)] Costo = 29\n"
     ]
    }
   ],
   "source": [
    "def costo_total(aristas):\n",
    "    return sum(w for _, _, w in aristas)\n",
    "\n",
    "mst_prim    = prim_simple(V, edges, inicio=\"A\")\n",
    "mst_kruskal = kruskal_simple(V, edges)\n",
    "\n",
    "print(\"MST con Prim  :\", mst_prim,    \"Costo =\", costo_total(mst_prim))\n",
    "print(\"MST con Kruskal:\", mst_kruskal, \"Costo =\", costo_total(mst_kruskal))"
   ]
  }
 ],
 "metadata": {
  "kernelspec": {
   "display_name": "Python 3",
   "language": "python",
   "name": "python3"
  },
  "language_info": {
   "codemirror_mode": {
    "name": "ipython",
    "version": 3
   },
   "file_extension": ".py",
   "mimetype": "text/x-python",
   "name": "python",
   "nbconvert_exporter": "python",
   "pygments_lexer": "ipython3",
   "version": "3.12.3"
  }
 },
 "nbformat": 4,
 "nbformat_minor": 5
}
